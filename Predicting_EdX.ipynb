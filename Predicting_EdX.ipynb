{
 "cells": [
  {
   "cell_type": "markdown",
   "metadata": {
    "heading_collapsed": true
   },
   "source": [
    "# Imports"
   ]
  },
  {
   "cell_type": "code",
   "execution_count": 1,
   "metadata": {
    "hidden": true
   },
   "outputs": [],
   "source": [
    "import pandas as pd\n",
    "import numpy as np\n",
    "import matplotlib.pyplot as plt\n",
    "import seaborn as sns \n",
    "%matplotlib inline\n",
    "import datetime as dt\n",
    "\n",
    "from sklearn.linear_model import LogisticRegression, LogisticRegressionCV\n",
    "from sklearn.model_selection import train_test_split\n",
    "from sklearn.preprocessing import StandardScaler\n",
    "from sklearn.metrics import f1_score, recall_score, precision_score\n",
    "from sklearn.neighbors import KNeighborsClassifier\n",
    "from sklearn.ensemble import RandomForestClassifier\n",
    "\n",
    "from xgboost import XGBClassifier\n",
    "from sklearn.metrics import accuracy_score\n",
    "\n",
    "import pickle\n",
    "import re\n",
    "\n"
   ]
  },
  {
   "cell_type": "markdown",
   "metadata": {
    "heading_collapsed": true
   },
   "source": [
    "# Load and Clean"
   ]
  },
  {
   "cell_type": "markdown",
   "metadata": {
    "hidden": true
   },
   "source": [
    "## Load Data"
   ]
  },
  {
   "cell_type": "code",
   "execution_count": 2,
   "metadata": {
    "hidden": true
   },
   "outputs": [],
   "source": [
    "df_raw = pd.read_csv('HMXPC13_DI_v2_5-14-14.csv')"
   ]
  },
  {
   "cell_type": "code",
   "execution_count": 3,
   "metadata": {
    "hidden": true
   },
   "outputs": [],
   "source": [
    "df_raw = df_raw.drop('roles', axis = 1)"
   ]
  },
  {
   "cell_type": "markdown",
   "metadata": {
    "hidden": true
   },
   "source": [
    "## Drop Unnecessary Columns"
   ]
  },
  {
   "cell_type": "code",
   "execution_count": 6,
   "metadata": {
    "hidden": true
   },
   "outputs": [],
   "source": [
    "#These columns contain useless information, or info that is not applicable to my model\n",
    "#Grade and last_event are too predictive, and would not be known explicitly until the \n",
    "#end of the course\n",
    "\n",
    "#dropping nevents because it is colinear with nplay_video\n",
    "\n",
    "df_raw_edx = df_raw.drop(columns=['registered', 'viewed', 'grade', 'last_event_DI', 'incomplete_flag', 'nevents'])"
   ]
  },
  {
   "cell_type": "markdown",
   "metadata": {
    "hidden": true
   },
   "source": [
    "### Make Mask, check if user has either explored or been certified, Then create new DF"
   ]
  },
  {
   "cell_type": "code",
   "execution_count": 10,
   "metadata": {
    "hidden": true
   },
   "outputs": [],
   "source": [
    "mask = (df_raw_edx['explored'] == 1) | (df_raw_edx['certified'] == 1)\n",
    "df_edx = df_raw_edx[mask]"
   ]
  },
  {
   "cell_type": "markdown",
   "metadata": {
    "hidden": true
   },
   "source": [
    "## Clean Nans"
   ]
  },
  {
   "cell_type": "code",
   "execution_count": 13,
   "metadata": {
    "hidden": true
   },
   "outputs": [
    {
     "data": {
      "text/html": [
       "<div>\n",
       "<style scoped>\n",
       "    .dataframe tbody tr th:only-of-type {\n",
       "        vertical-align: middle;\n",
       "    }\n",
       "\n",
       "    .dataframe tbody tr th {\n",
       "        vertical-align: top;\n",
       "    }\n",
       "\n",
       "    .dataframe thead th {\n",
       "        text-align: right;\n",
       "    }\n",
       "</style>\n",
       "<table border=\"1\" class=\"dataframe\">\n",
       "  <thead>\n",
       "    <tr style=\"text-align: right;\">\n",
       "      <th></th>\n",
       "      <th>nplay_video</th>\n",
       "    </tr>\n",
       "    <tr>\n",
       "      <th>course_id</th>\n",
       "      <th></th>\n",
       "    </tr>\n",
       "  </thead>\n",
       "  <tbody>\n",
       "    <tr>\n",
       "      <th>HarvardX/CB22x/2013_Spring</th>\n",
       "      <td>0.0</td>\n",
       "    </tr>\n",
       "    <tr>\n",
       "      <th>HarvardX/CS50x/2012</th>\n",
       "      <td>0.0</td>\n",
       "    </tr>\n",
       "    <tr>\n",
       "      <th>HarvardX/ER22x/2013_Spring</th>\n",
       "      <td>0.0</td>\n",
       "    </tr>\n",
       "    <tr>\n",
       "      <th>HarvardX/PH207x/2012_Fall</th>\n",
       "      <td>3191567.0</td>\n",
       "    </tr>\n",
       "    <tr>\n",
       "      <th>HarvardX/PH278x/2013_Spring</th>\n",
       "      <td>216255.0</td>\n",
       "    </tr>\n",
       "    <tr>\n",
       "      <th>MITx/14.73x/2013_Spring</th>\n",
       "      <td>1049757.0</td>\n",
       "    </tr>\n",
       "    <tr>\n",
       "      <th>MITx/2.01x/2013_Spring</th>\n",
       "      <td>183007.0</td>\n",
       "    </tr>\n",
       "    <tr>\n",
       "      <th>MITx/3.091x/2012_Fall</th>\n",
       "      <td>611536.0</td>\n",
       "    </tr>\n",
       "    <tr>\n",
       "      <th>MITx/3.091x/2013_Spring</th>\n",
       "      <td>106349.0</td>\n",
       "    </tr>\n",
       "    <tr>\n",
       "      <th>MITx/6.002x/2012_Fall</th>\n",
       "      <td>1727330.0</td>\n",
       "    </tr>\n",
       "    <tr>\n",
       "      <th>MITx/6.002x/2013_Spring</th>\n",
       "      <td>473314.0</td>\n",
       "    </tr>\n",
       "    <tr>\n",
       "      <th>MITx/6.00x/2012_Fall</th>\n",
       "      <td>2262774.0</td>\n",
       "    </tr>\n",
       "    <tr>\n",
       "      <th>MITx/6.00x/2013_Spring</th>\n",
       "      <td>1035568.0</td>\n",
       "    </tr>\n",
       "    <tr>\n",
       "      <th>MITx/7.00x/2013_Spring</th>\n",
       "      <td>871816.0</td>\n",
       "    </tr>\n",
       "    <tr>\n",
       "      <th>MITx/8.02x/2013_Spring</th>\n",
       "      <td>1371882.0</td>\n",
       "    </tr>\n",
       "    <tr>\n",
       "      <th>MITx/8.MReV/2013_Summer</th>\n",
       "      <td>5944.0</td>\n",
       "    </tr>\n",
       "  </tbody>\n",
       "</table>\n",
       "</div>"
      ],
      "text/plain": [
       "                             nplay_video\n",
       "course_id                               \n",
       "HarvardX/CB22x/2013_Spring           0.0\n",
       "HarvardX/CS50x/2012                  0.0\n",
       "HarvardX/ER22x/2013_Spring           0.0\n",
       "HarvardX/PH207x/2012_Fall      3191567.0\n",
       "HarvardX/PH278x/2013_Spring     216255.0\n",
       "MITx/14.73x/2013_Spring        1049757.0\n",
       "MITx/2.01x/2013_Spring          183007.0\n",
       "MITx/3.091x/2012_Fall           611536.0\n",
       "MITx/3.091x/2013_Spring         106349.0\n",
       "MITx/6.002x/2012_Fall          1727330.0\n",
       "MITx/6.002x/2013_Spring         473314.0\n",
       "MITx/6.00x/2012_Fall           2262774.0\n",
       "MITx/6.00x/2013_Spring         1035568.0\n",
       "MITx/7.00x/2013_Spring          871816.0\n",
       "MITx/8.02x/2013_Spring         1371882.0\n",
       "MITx/8.MReV/2013_Summer           5944.0"
      ]
     },
     "execution_count": 13,
     "metadata": {},
     "output_type": "execute_result"
    }
   ],
   "source": [
    "df_edx.groupby(['course_id']).agg({'nplay_video': 'sum'})"
   ]
  },
  {
   "cell_type": "code",
   "execution_count": 14,
   "metadata": {
    "hidden": true
   },
   "outputs": [],
   "source": [
    "#Create masks for each id\n",
    "mask = df_edx['course_id'] != 'HarvardX/CB22x/2013_Spring' \n",
    "mask2 = df_edx['course_id'] != 'HarvardX/CS50x/2012' \n",
    "mask3 = df_edx['course_id'] != 'HarvardX/ER22x/2013_Spring'"
   ]
  },
  {
   "cell_type": "code",
   "execution_count": 15,
   "metadata": {
    "hidden": true
   },
   "outputs": [
    {
     "name": "stderr",
     "output_type": "stream",
     "text": [
      "/Users/evanisenstein/anaconda3/lib/python3.7/site-packages/ipykernel_launcher.py:3: UserWarning: Boolean Series key will be reindexed to match DataFrame index.\n",
      "  This is separate from the ipykernel package so we can avoid doing imports until\n",
      "/Users/evanisenstein/anaconda3/lib/python3.7/site-packages/ipykernel_launcher.py:4: UserWarning: Boolean Series key will be reindexed to match DataFrame index.\n",
      "  after removing the cwd from sys.path.\n"
     ]
    }
   ],
   "source": [
    "#drop and filter each consecutive mask, store in df\n",
    "first = df_edx[mask]\n",
    "second = first[mask2]\n",
    "third = second[mask3]"
   ]
  },
  {
   "cell_type": "code",
   "execution_count": 16,
   "metadata": {
    "hidden": true
   },
   "outputs": [],
   "source": [
    "df = third"
   ]
  },
  {
   "cell_type": "markdown",
   "metadata": {
    "hidden": true
   },
   "source": [
    "### Replace LoE_DI, gender nans with none provided \n",
    "This data can either be considered nans, or the question was asked\n",
    "before the survey was asked"
   ]
  },
  {
   "cell_type": "code",
   "execution_count": 18,
   "metadata": {
    "hidden": true
   },
   "outputs": [
    {
     "name": "stderr",
     "output_type": "stream",
     "text": [
      "/Users/evanisenstein/anaconda3/lib/python3.7/site-packages/pandas/core/frame.py:3391: SettingWithCopyWarning: \n",
      "A value is trying to be set on a copy of a slice from a DataFrame.\n",
      "Try using .loc[row_indexer,col_indexer] = value instead\n",
      "\n",
      "See the caveats in the documentation: http://pandas.pydata.org/pandas-docs/stable/indexing.html#indexing-view-versus-copy\n",
      "  self[k1] = value[k2]\n"
     ]
    }
   ],
   "source": [
    "df[['LoE_DI', 'gender']] = df[['LoE_DI','gender']].fillna('None Provided')"
   ]
  },
  {
   "cell_type": "markdown",
   "metadata": {
    "hidden": true
   },
   "source": [
    "### Change Yob to column median"
   ]
  },
  {
   "cell_type": "code",
   "execution_count": 19,
   "metadata": {
    "hidden": true
   },
   "outputs": [
    {
     "name": "stderr",
     "output_type": "stream",
     "text": [
      "/Users/evanisenstein/anaconda3/lib/python3.7/site-packages/pandas/core/generic.py:6586: SettingWithCopyWarning: \n",
      "A value is trying to be set on a copy of a slice from a DataFrame\n",
      "\n",
      "See the caveats in the documentation: http://pandas.pydata.org/pandas-docs/stable/indexing.html#indexing-view-versus-copy\n",
      "  self._update_inplace(new_data)\n"
     ]
    }
   ],
   "source": [
    "yob_median = df['YoB'].median()\n",
    "df['YoB'].replace({np.nan: yob_median}, inplace = True)"
   ]
  },
  {
   "cell_type": "markdown",
   "metadata": {
    "hidden": true
   },
   "source": [
    "### Drop leftover nans, should still be large enough of a dataset to work with"
   ]
  },
  {
   "cell_type": "code",
   "execution_count": 21,
   "metadata": {
    "hidden": true
   },
   "outputs": [
    {
     "name": "stderr",
     "output_type": "stream",
     "text": [
      "/Users/evanisenstein/anaconda3/lib/python3.7/site-packages/ipykernel_launcher.py:1: SettingWithCopyWarning: \n",
      "A value is trying to be set on a copy of a slice from a DataFrame\n",
      "\n",
      "See the caveats in the documentation: http://pandas.pydata.org/pandas-docs/stable/indexing.html#indexing-view-versus-copy\n",
      "  \"\"\"Entry point for launching an IPython kernel.\n"
     ]
    }
   ],
   "source": [
    "df.dropna(inplace=True)"
   ]
  },
  {
   "cell_type": "markdown",
   "metadata": {
    "hidden": true
   },
   "source": [
    "## Replace column names and get dummies"
   ]
  },
  {
   "cell_type": "markdown",
   "metadata": {
    "hidden": true
   },
   "source": [
    "### Basic Feature Engineering, create column based on season (fall, spring, or summer)"
   ]
  },
  {
   "cell_type": "code",
   "execution_count": 24,
   "metadata": {
    "hidden": true
   },
   "outputs": [
    {
     "name": "stderr",
     "output_type": "stream",
     "text": [
      "/Users/evanisenstein/anaconda3/lib/python3.7/site-packages/ipykernel_launcher.py:1: SettingWithCopyWarning: \n",
      "A value is trying to be set on a copy of a slice from a DataFrame.\n",
      "Try using .loc[row_indexer,col_indexer] = value instead\n",
      "\n",
      "See the caveats in the documentation: http://pandas.pydata.org/pandas-docs/stable/indexing.html#indexing-view-versus-copy\n",
      "  \"\"\"Entry point for launching an IPython kernel.\n"
     ]
    }
   ],
   "source": [
    "df['season'] = 'spring'"
   ]
  },
  {
   "cell_type": "code",
   "execution_count": 25,
   "metadata": {
    "hidden": true
   },
   "outputs": [
    {
     "data": {
      "text/plain": [
       "['HarvardX/PH207x/2012_Fall',\n",
       " 'HarvardX/PH278x/2013_Spring',\n",
       " 'MITx/3.091x/2012_Fall',\n",
       " 'MITx/6.002x/2012_Fall',\n",
       " 'MITx/7.00x/2013_Spring',\n",
       " 'MITx/6.00x/2012_Fall',\n",
       " 'MITx/6.00x/2013_Spring',\n",
       " 'MITx/6.002x/2013_Spring',\n",
       " 'MITx/14.73x/2013_Spring',\n",
       " 'MITx/8.02x/2013_Spring',\n",
       " 'MITx/8.MReV/2013_Summer',\n",
       " 'MITx/3.091x/2013_Spring',\n",
       " 'MITx/2.01x/2013_Spring']"
      ]
     },
     "execution_count": 25,
     "metadata": {},
     "output_type": "execute_result"
    }
   ],
   "source": [
    "list(df['course_id'].unique())"
   ]
  },
  {
   "cell_type": "code",
   "execution_count": 26,
   "metadata": {
    "hidden": true
   },
   "outputs": [],
   "source": [
    "fall_dates = ['HarvardX/PH207x/2012_Fall','MITx/3.091x/2012_Fall',\n",
    "              'MITx/6.002x/2012_Fall','MITx/6.00x/2012_Fall']"
   ]
  },
  {
   "cell_type": "code",
   "execution_count": 27,
   "metadata": {
    "hidden": true
   },
   "outputs": [
    {
     "name": "stderr",
     "output_type": "stream",
     "text": [
      "/Users/evanisenstein/anaconda3/lib/python3.7/site-packages/pandas/core/indexing.py:543: SettingWithCopyWarning: \n",
      "A value is trying to be set on a copy of a slice from a DataFrame.\n",
      "Try using .loc[row_indexer,col_indexer] = value instead\n",
      "\n",
      "See the caveats in the documentation: http://pandas.pydata.org/pandas-docs/stable/indexing.html#indexing-view-versus-copy\n",
      "  self.obj[item] = s\n"
     ]
    }
   ],
   "source": [
    "mask = df['course_id'] == 'HarvardX/PH207x/2012_Fall'\n",
    "df.loc[mask, 'season'] = 'fall'\n",
    "\n",
    "mask = df['course_id'] == 'MITx/3.091x/2012_Fall'\n",
    "df.loc[mask, 'season'] = 'fall'\n",
    "\n",
    "mask = df['course_id'] == 'MITx/6.002x/2012_Fall'\n",
    "df.loc[mask, 'season'] = 'fall'\n",
    "\n",
    "mask = df['course_id'] == 'MITx/6.00x/2012_Fall'\n",
    "df.loc[mask, 'season'] = 'fall'\n",
    "\n",
    "mask = df['course_id'] == 'MITx/8.MReV/2013_Summer'\n",
    "df.loc[mask, 'season'] = 'summer'"
   ]
  },
  {
   "cell_type": "markdown",
   "metadata": {
    "hidden": true
   },
   "source": [
    "### Relative Launch\n",
    "Subtract Course Launch from actual start time, depends on the progrm"
   ]
  },
  {
   "cell_type": "code",
   "execution_count": 29,
   "metadata": {
    "hidden": true
   },
   "outputs": [
    {
     "name": "stderr",
     "output_type": "stream",
     "text": [
      "/Users/evanisenstein/anaconda3/lib/python3.7/site-packages/ipykernel_launcher.py:2: SettingWithCopyWarning: \n",
      "A value is trying to be set on a copy of a slice from a DataFrame.\n",
      "Try using .loc[row_indexer,col_indexer] = value instead\n",
      "\n",
      "See the caveats in the documentation: http://pandas.pydata.org/pandas-docs/stable/indexing.html#indexing-view-versus-copy\n",
      "  \n"
     ]
    }
   ],
   "source": [
    "#convert start_time_DI into datetime format\n",
    "df['start_time_DI'] = pd.to_datetime(df['start_time_DI'])"
   ]
  },
  {
   "cell_type": "markdown",
   "metadata": {
    "hidden": true
   },
   "source": [
    "#### Set Baseline for relative_launch, \n",
    "Healthstat, PH207x"
   ]
  },
  {
   "cell_type": "code",
   "execution_count": 30,
   "metadata": {
    "hidden": true
   },
   "outputs": [
    {
     "name": "stderr",
     "output_type": "stream",
     "text": [
      "/Users/evanisenstein/anaconda3/lib/python3.7/site-packages/ipykernel_launcher.py:1: SettingWithCopyWarning: \n",
      "A value is trying to be set on a copy of a slice from a DataFrame.\n",
      "Try using .loc[row_indexer,col_indexer] = value instead\n",
      "\n",
      "See the caveats in the documentation: http://pandas.pydata.org/pandas-docs/stable/indexing.html#indexing-view-versus-copy\n",
      "  \"\"\"Entry point for launching an IPython kernel.\n"
     ]
    }
   ],
   "source": [
    "df['relative_launch'] = (df['start_time_DI'] - dt.datetime(2012, 10, 15)).dt.days"
   ]
  },
  {
   "cell_type": "markdown",
   "metadata": {
    "hidden": true
   },
   "source": [
    "#### Use relative launch to create relative launch date"
   ]
  },
  {
   "cell_type": "code",
   "execution_count": 31,
   "metadata": {
    "hidden": true
   },
   "outputs": [],
   "source": [
    "mask = df['course_id'] == 'HarvardX/PH278x/2013_Spring'\n",
    "df.loc[mask, 'relative_launch'] = (df['start_time_DI'] - dt.datetime(2013, 5, 15)).dt.days"
   ]
  },
  {
   "cell_type": "code",
   "execution_count": 33,
   "metadata": {
    "hidden": true
   },
   "outputs": [],
   "source": [
    "def change_relative_launch(course_id, y, m, d):\n",
    "    mask = df['course_id'] == course_id\n",
    "    df.loc[mask, 'relative_launch'] = (df['start_time_DI'] - dt.datetime(y, m, d)).dt.days"
   ]
  },
  {
   "cell_type": "code",
   "execution_count": 34,
   "metadata": {
    "hidden": true
   },
   "outputs": [],
   "source": [
    "# 'MITx/3.091x/2012_Fall', \n",
    "change_relative_launch('MITx/3.091x/2012_Fall', 2012, 10, 9)\n"
   ]
  },
  {
   "cell_type": "code",
   "execution_count": 35,
   "metadata": {
    "hidden": true
   },
   "outputs": [],
   "source": [
    "change_relative_launch('MITx/6.002x/2012_Fall', 2012, 9, 5)"
   ]
  },
  {
   "cell_type": "code",
   "execution_count": 36,
   "metadata": {
    "hidden": true
   },
   "outputs": [],
   "source": [
    "change_relative_launch('MITx/7.00x/2013_Spring', 2013, 3, 3)"
   ]
  },
  {
   "cell_type": "code",
   "execution_count": 37,
   "metadata": {
    "hidden": true
   },
   "outputs": [],
   "source": [
    "change_relative_launch('MITx/6.00x/2012_Fall', 2012, 9, 26)"
   ]
  },
  {
   "cell_type": "code",
   "execution_count": 38,
   "metadata": {
    "hidden": true
   },
   "outputs": [],
   "source": [
    "change_relative_launch('MITx/6.00x/2013_Spring', 2013, 2, 4)"
   ]
  },
  {
   "cell_type": "code",
   "execution_count": 39,
   "metadata": {
    "hidden": true
   },
   "outputs": [],
   "source": [
    "change_relative_launch('MITx/6.002x/2013_Spring', 2013, 3, 3)"
   ]
  },
  {
   "cell_type": "code",
   "execution_count": 40,
   "metadata": {
    "hidden": true
   },
   "outputs": [],
   "source": [
    "change_relative_launch('MITx/14.73x/2013_Spring', 2012, 2, 12)"
   ]
  },
  {
   "cell_type": "code",
   "execution_count": 41,
   "metadata": {
    "hidden": true
   },
   "outputs": [],
   "source": [
    "change_relative_launch('MITx/8.02x/2013_Spring', 2013, 2, 18)"
   ]
  },
  {
   "cell_type": "code",
   "execution_count": 42,
   "metadata": {
    "hidden": true
   },
   "outputs": [],
   "source": [
    "change_relative_launch('MITx/8.MReV/2013_Summer', 2013, 6, 1)"
   ]
  },
  {
   "cell_type": "code",
   "execution_count": 43,
   "metadata": {
    "hidden": true
   },
   "outputs": [],
   "source": [
    "change_relative_launch('MITx/3.091x/2013_Spring', 2013, 2, 5)"
   ]
  },
  {
   "cell_type": "code",
   "execution_count": 44,
   "metadata": {
    "hidden": true
   },
   "outputs": [],
   "source": [
    "change_relative_launch('MITx/2.01x/2013_Spring', 2013, 4, 15)"
   ]
  },
  {
   "cell_type": "markdown",
   "metadata": {
    "heading_collapsed": true,
    "hidden": true
   },
   "source": [
    "## Replace identical course ids with single id, get better understanding of courses"
   ]
  },
  {
   "cell_type": "code",
   "execution_count": 46,
   "metadata": {
    "hidden": true
   },
   "outputs": [],
   "source": [
    "df = df.replace({'course_id': {'MITx/6.00x/2012_Fall': 'MITx_CS_Python',\n",
    "                            'MITx/6.00x/2013_Spring': 'MITx_CS_Python',\n",
    "                            'MITx/6.002x/2012_Fall': 'MITx_Circuits',\n",
    "                            'MITx/6.002x/2013_Spring': 'MITx_Circuits',\n",
    "                            'MITx/3.091x/2012_Fall': 'MITx_SSChem',\n",
    "                            'MITx/3.091x/2013_Spring': 'MITx_SSChem',\n",
    "                            'HarvardX/PH207x/2012_Fall': 'Harv_HealthStat',\n",
    "                            'HarvardX/PH278x/2013_Spring': 'Harv_HealthEnv',\n",
    "                            'MITx/7.00x/2013_Spring': 'MITx_Biology',\n",
    "                            'MITx/14.73x/2013_Spring': 'MITx_Poverty',\n",
    "                            'MITx/8.02x/2013_Spring': 'MITx_ElecMag',\n",
    "                            'MITx/8.MReV/2013_Summer': 'MITx_MechRev',\n",
    "                            'MITx/2.01x/2013_Spring': 'MITx_Structures'}})"
   ]
  },
  {
   "cell_type": "code",
   "execution_count": 47,
   "metadata": {
    "hidden": true
   },
   "outputs": [
    {
     "data": {
      "text/plain": [
       "array(['Harv_HealthStat', 'Harv_HealthEnv', 'MITx_SSChem',\n",
       "       'MITx_Circuits', 'MITx_Biology', 'MITx_CS_Python', 'MITx_Poverty',\n",
       "       'MITx_ElecMag', 'MITx_MechRev', 'MITx_Structures'], dtype=object)"
      ]
     },
     "execution_count": 47,
     "metadata": {},
     "output_type": "execute_result"
    }
   ],
   "source": [
    "df['course_id'].unique()"
   ]
  },
  {
   "cell_type": "markdown",
   "metadata": {
    "heading_collapsed": true,
    "hidden": true
   },
   "source": [
    "## Running Get_Dummies\n",
    "Get Dummies on course_id, final_cc_cname_DI, LoE_DI, YoB, gender, 'season'"
   ]
  },
  {
   "cell_type": "code",
   "execution_count": 49,
   "metadata": {
    "hidden": true
   },
   "outputs": [],
   "source": [
    "dum_df = pd.get_dummies(data = df, columns=['course_id', 'final_cc_cname_DI', 'LoE_DI',\n",
    "                                           'gender', 'season'])"
   ]
  },
  {
   "cell_type": "code",
   "execution_count": 50,
   "metadata": {
    "hidden": true
   },
   "outputs": [
    {
     "data": {
      "text/plain": [
       "(23959, 66)"
      ]
     },
     "execution_count": 50,
     "metadata": {},
     "output_type": "execute_result"
    }
   ],
   "source": [
    "dum_df.shape"
   ]
  },
  {
   "cell_type": "markdown",
   "metadata": {
    "heading_collapsed": true
   },
   "source": [
    "# Logistic Regression with Dummies\n"
   ]
  },
  {
   "cell_type": "markdown",
   "metadata": {
    "hidden": true
   },
   "source": [
    "## Dropping columns"
   ]
  },
  {
   "cell_type": "markdown",
   "metadata": {
    "hidden": true
   },
   "source": [
    "Need to Drop   userid has to many individuals to be a useful feature and start_time because of how relative it is, thats why i created a relative start date"
   ]
  },
  {
   "cell_type": "code",
   "execution_count": 51,
   "metadata": {
    "hidden": true
   },
   "outputs": [],
   "source": [
    "second_mvp_df = dum_df.drop(columns=['userid_DI', 'start_time_DI'])\n",
    "second_mvp_df.reset_index(drop=True, inplace=True)                                "
   ]
  },
  {
   "cell_type": "markdown",
   "metadata": {
    "hidden": true
   },
   "source": [
    "I am assigning the certified column to y, then I will be dropping it since it is easier to load the rest of the df into the X variable"
   ]
  },
  {
   "cell_type": "code",
   "execution_count": 52,
   "metadata": {
    "hidden": true
   },
   "outputs": [],
   "source": [
    "y = second_mvp_df.loc[:, 'certified']"
   ]
  },
  {
   "cell_type": "code",
   "execution_count": 53,
   "metadata": {
    "hidden": true
   },
   "outputs": [],
   "source": [
    "second_mvp_df.drop(columns = 'certified', inplace = True)"
   ]
  },
  {
   "cell_type": "markdown",
   "metadata": {
    "hidden": true
   },
   "source": [
    "## Dropping columns that are too predictive, to make it a better model"
   ]
  },
  {
   "cell_type": "code",
   "execution_count": 54,
   "metadata": {
    "hidden": true
   },
   "outputs": [],
   "source": [
    "#Dropped nchapters just to see what happens\n",
    "second_mvp_df.drop(columns = ['nchapters', 'ndays_act', 'nplay_video', 'nforum_posts'], inplace=True)"
   ]
  },
  {
   "cell_type": "code",
   "execution_count": 55,
   "metadata": {
    "hidden": true
   },
   "outputs": [],
   "source": [
    "X = second_mvp_df.iloc[:,:]"
   ]
  },
  {
   "cell_type": "code",
   "execution_count": 56,
   "metadata": {
    "hidden": true
   },
   "outputs": [
    {
     "data": {
      "text/html": [
       "<div>\n",
       "<style scoped>\n",
       "    .dataframe tbody tr th:only-of-type {\n",
       "        vertical-align: middle;\n",
       "    }\n",
       "\n",
       "    .dataframe tbody tr th {\n",
       "        vertical-align: top;\n",
       "    }\n",
       "\n",
       "    .dataframe thead th {\n",
       "        text-align: right;\n",
       "    }\n",
       "</style>\n",
       "<table border=\"1\" class=\"dataframe\">\n",
       "  <thead>\n",
       "    <tr style=\"text-align: right;\">\n",
       "      <th></th>\n",
       "      <th>explored</th>\n",
       "      <th>YoB</th>\n",
       "      <th>relative_launch</th>\n",
       "      <th>course_id_Harv_HealthEnv</th>\n",
       "      <th>course_id_Harv_HealthStat</th>\n",
       "      <th>course_id_MITx_Biology</th>\n",
       "      <th>course_id_MITx_CS_Python</th>\n",
       "      <th>course_id_MITx_Circuits</th>\n",
       "      <th>course_id_MITx_ElecMag</th>\n",
       "      <th>course_id_MITx_MechRev</th>\n",
       "      <th>...</th>\n",
       "      <th>LoE_DI_Less than Secondary</th>\n",
       "      <th>LoE_DI_Master's</th>\n",
       "      <th>LoE_DI_None Provided</th>\n",
       "      <th>LoE_DI_Secondary</th>\n",
       "      <th>gender_None Provided</th>\n",
       "      <th>gender_f</th>\n",
       "      <th>gender_m</th>\n",
       "      <th>season_fall</th>\n",
       "      <th>season_spring</th>\n",
       "      <th>season_summer</th>\n",
       "    </tr>\n",
       "  </thead>\n",
       "  <tbody>\n",
       "    <tr>\n",
       "      <th>0</th>\n",
       "      <td>1</td>\n",
       "      <td>1987.0</td>\n",
       "      <td>-28</td>\n",
       "      <td>0</td>\n",
       "      <td>1</td>\n",
       "      <td>0</td>\n",
       "      <td>0</td>\n",
       "      <td>0</td>\n",
       "      <td>0</td>\n",
       "      <td>0</td>\n",
       "      <td>...</td>\n",
       "      <td>0</td>\n",
       "      <td>0</td>\n",
       "      <td>1</td>\n",
       "      <td>0</td>\n",
       "      <td>1</td>\n",
       "      <td>0</td>\n",
       "      <td>0</td>\n",
       "      <td>1</td>\n",
       "      <td>0</td>\n",
       "      <td>0</td>\n",
       "    </tr>\n",
       "    <tr>\n",
       "      <th>1</th>\n",
       "      <td>1</td>\n",
       "      <td>1987.0</td>\n",
       "      <td>-76</td>\n",
       "      <td>0</td>\n",
       "      <td>1</td>\n",
       "      <td>0</td>\n",
       "      <td>0</td>\n",
       "      <td>0</td>\n",
       "      <td>0</td>\n",
       "      <td>0</td>\n",
       "      <td>...</td>\n",
       "      <td>0</td>\n",
       "      <td>0</td>\n",
       "      <td>1</td>\n",
       "      <td>0</td>\n",
       "      <td>1</td>\n",
       "      <td>0</td>\n",
       "      <td>0</td>\n",
       "      <td>1</td>\n",
       "      <td>0</td>\n",
       "      <td>0</td>\n",
       "    </tr>\n",
       "    <tr>\n",
       "      <th>2</th>\n",
       "      <td>1</td>\n",
       "      <td>1987.0</td>\n",
       "      <td>-57</td>\n",
       "      <td>0</td>\n",
       "      <td>1</td>\n",
       "      <td>0</td>\n",
       "      <td>0</td>\n",
       "      <td>0</td>\n",
       "      <td>0</td>\n",
       "      <td>0</td>\n",
       "      <td>...</td>\n",
       "      <td>0</td>\n",
       "      <td>0</td>\n",
       "      <td>1</td>\n",
       "      <td>0</td>\n",
       "      <td>1</td>\n",
       "      <td>0</td>\n",
       "      <td>0</td>\n",
       "      <td>1</td>\n",
       "      <td>0</td>\n",
       "      <td>0</td>\n",
       "    </tr>\n",
       "    <tr>\n",
       "      <th>3</th>\n",
       "      <td>1</td>\n",
       "      <td>1987.0</td>\n",
       "      <td>-60</td>\n",
       "      <td>0</td>\n",
       "      <td>1</td>\n",
       "      <td>0</td>\n",
       "      <td>0</td>\n",
       "      <td>0</td>\n",
       "      <td>0</td>\n",
       "      <td>0</td>\n",
       "      <td>...</td>\n",
       "      <td>0</td>\n",
       "      <td>0</td>\n",
       "      <td>1</td>\n",
       "      <td>0</td>\n",
       "      <td>1</td>\n",
       "      <td>0</td>\n",
       "      <td>0</td>\n",
       "      <td>1</td>\n",
       "      <td>0</td>\n",
       "      <td>0</td>\n",
       "    </tr>\n",
       "    <tr>\n",
       "      <th>4</th>\n",
       "      <td>1</td>\n",
       "      <td>1987.0</td>\n",
       "      <td>-53</td>\n",
       "      <td>0</td>\n",
       "      <td>1</td>\n",
       "      <td>0</td>\n",
       "      <td>0</td>\n",
       "      <td>0</td>\n",
       "      <td>0</td>\n",
       "      <td>0</td>\n",
       "      <td>...</td>\n",
       "      <td>0</td>\n",
       "      <td>0</td>\n",
       "      <td>1</td>\n",
       "      <td>0</td>\n",
       "      <td>1</td>\n",
       "      <td>0</td>\n",
       "      <td>0</td>\n",
       "      <td>1</td>\n",
       "      <td>0</td>\n",
       "      <td>0</td>\n",
       "    </tr>\n",
       "  </tbody>\n",
       "</table>\n",
       "<p>5 rows × 59 columns</p>\n",
       "</div>"
      ],
      "text/plain": [
       "   explored     YoB  relative_launch  course_id_Harv_HealthEnv  \\\n",
       "0         1  1987.0              -28                         0   \n",
       "1         1  1987.0              -76                         0   \n",
       "2         1  1987.0              -57                         0   \n",
       "3         1  1987.0              -60                         0   \n",
       "4         1  1987.0              -53                         0   \n",
       "\n",
       "   course_id_Harv_HealthStat  course_id_MITx_Biology  \\\n",
       "0                          1                       0   \n",
       "1                          1                       0   \n",
       "2                          1                       0   \n",
       "3                          1                       0   \n",
       "4                          1                       0   \n",
       "\n",
       "   course_id_MITx_CS_Python  course_id_MITx_Circuits  course_id_MITx_ElecMag  \\\n",
       "0                         0                        0                       0   \n",
       "1                         0                        0                       0   \n",
       "2                         0                        0                       0   \n",
       "3                         0                        0                       0   \n",
       "4                         0                        0                       0   \n",
       "\n",
       "   course_id_MITx_MechRev  ...  LoE_DI_Less than Secondary  LoE_DI_Master's  \\\n",
       "0                       0  ...                           0                0   \n",
       "1                       0  ...                           0                0   \n",
       "2                       0  ...                           0                0   \n",
       "3                       0  ...                           0                0   \n",
       "4                       0  ...                           0                0   \n",
       "\n",
       "   LoE_DI_None Provided  LoE_DI_Secondary  gender_None Provided  gender_f  \\\n",
       "0                     1                 0                     1         0   \n",
       "1                     1                 0                     1         0   \n",
       "2                     1                 0                     1         0   \n",
       "3                     1                 0                     1         0   \n",
       "4                     1                 0                     1         0   \n",
       "\n",
       "   gender_m  season_fall  season_spring  season_summer  \n",
       "0         0            1              0              0  \n",
       "1         0            1              0              0  \n",
       "2         0            1              0              0  \n",
       "3         0            1              0              0  \n",
       "4         0            1              0              0  \n",
       "\n",
       "[5 rows x 59 columns]"
      ]
     },
     "execution_count": 56,
     "metadata": {},
     "output_type": "execute_result"
    }
   ],
   "source": [
    "#second_mvp_df.head()\n",
    "X.head()"
   ]
  },
  {
   "cell_type": "markdown",
   "metadata": {
    "heading_collapsed": true,
    "hidden": true
   },
   "source": [
    "## Train Test Split"
   ]
  },
  {
   "cell_type": "code",
   "execution_count": 57,
   "metadata": {
    "hidden": true
   },
   "outputs": [],
   "source": [
    "X_train, X_test, y_train, y_test = train_test_split(X,\n",
    "                                                    y, \n",
    "                                                    test_size = .25,\n",
    "                                                    random_state = 42)"
   ]
  },
  {
   "cell_type": "markdown",
   "metadata": {
    "hidden": true
   },
   "source": [
    "## Logistic Regression CV"
   ]
  },
  {
   "cell_type": "code",
   "execution_count": 58,
   "metadata": {
    "hidden": true
   },
   "outputs": [],
   "source": [
    "std = StandardScaler()\n",
    "logCV = LogisticRegressionCV(cv=5, random_state=75,\n",
    "                             multi_class='multinomial')\n",
    "\n",
    "#Fit and Transform based on X_train values\n",
    "std.fit(X_train.values)\n",
    "X_tr = std.transform(X_train.values)\n",
    "\n",
    "#Transform X_test values based on the X_train fit\n",
    "X_te = std.transform(X_test.values)\n",
    "\n",
    "#Fit model using the X_tr values against the y_train \n",
    "#Cross validation is already built in to the method\n",
    "logCV.fit(X_tr, y_train)\n",
    "\n",
    "#use trained model to pred y values on unseen data set, save as y_pred\n",
    "y_pred = logCV.predict(X_te)"
   ]
  },
  {
   "cell_type": "code",
   "execution_count": 59,
   "metadata": {
    "hidden": true
   },
   "outputs": [
    {
     "data": {
      "text/plain": [
       "array([0.00599484])"
      ]
     },
     "execution_count": 59,
     "metadata": {},
     "output_type": "execute_result"
    }
   ],
   "source": [
    "logCV.C_"
   ]
  },
  {
   "cell_type": "code",
   "execution_count": 60,
   "metadata": {
    "hidden": true
   },
   "outputs": [
    {
     "data": {
      "text/plain": [
       "'The Logistic Regression CV F1 score is 0.7113'"
      ]
     },
     "execution_count": 60,
     "metadata": {},
     "output_type": "execute_result"
    }
   ],
   "source": [
    "f'The Logistic Regression CV F1 score is {f1_score(y_test, y_pred):.4f}'"
   ]
  },
  {
   "cell_type": "code",
   "execution_count": 61,
   "metadata": {
    "hidden": true
   },
   "outputs": [
    {
     "data": {
      "text/plain": [
       "'The Logistic Regression CV Recall is 0.7850916741809438'"
      ]
     },
     "execution_count": 61,
     "metadata": {},
     "output_type": "execute_result"
    }
   ],
   "source": [
    "f'The Logistic Regression CV Recall is {recall_score(y_test, y_pred)}'"
   ]
  },
  {
   "cell_type": "code",
   "execution_count": 62,
   "metadata": {
    "hidden": true
   },
   "outputs": [
    {
     "data": {
      "text/plain": [
       "'The Logistic Regression CV Precision score is 0.6502'"
      ]
     },
     "execution_count": 62,
     "metadata": {},
     "output_type": "execute_result"
    }
   ],
   "source": [
    "f'The Logistic Regression CV Precision score is {precision_score(y_test, y_pred):.4f}'"
   ]
  },
  {
   "cell_type": "markdown",
   "metadata": {
    "hidden": true
   },
   "source": [
    "## Intepretation"
   ]
  },
  {
   "cell_type": "code",
   "execution_count": 63,
   "metadata": {
    "hidden": true
   },
   "outputs": [
    {
     "data": {
      "text/plain": [
       "array([[-1.61181534e-01,  6.33940783e-02, -6.10827528e-01,\n",
       "        -8.82867778e-02, -1.68430029e-01, -6.89002573e-02,\n",
       "        -1.14670232e-01, -2.92090574e-02, -9.78381178e-02,\n",
       "         1.12654028e-02,  6.05093288e-01,  1.05866112e-02,\n",
       "        -7.01955297e-02,  3.90799909e-03, -2.29844113e-02,\n",
       "        -2.28395713e-02, -6.57148199e-03, -1.09986988e-02,\n",
       "        -2.49374476e-03, -2.19078086e-02, -6.15061521e-03,\n",
       "         2.14885477e-02,  1.18893870e-02, -2.45030184e-02,\n",
       "         1.77153694e-04, -1.61264331e-02,  4.30857702e-03,\n",
       "        -1.30545538e-02, -1.21706383e-02, -4.29317136e-02,\n",
       "        -1.94627971e-02,  2.00262841e-02, -2.13179010e-02,\n",
       "         7.26429014e-03,  2.99499000e-03, -1.68488795e-02,\n",
       "        -1.63164375e-02, -7.35646033e-03, -1.96312501e-02,\n",
       "         4.91336211e-02,  1.35439712e-02,  3.12165801e-02,\n",
       "         5.18633910e-02, -7.82765590e-03,  1.73152603e-02,\n",
       "         8.77302871e-03, -2.80008812e-02, -1.57389435e-02,\n",
       "         2.12902738e-03, -5.37595833e-03,  2.55941691e-02,\n",
       "         1.71020914e-03, -1.04635414e-02, -1.60527938e-02,\n",
       "         2.41387197e-02, -6.64159347e-03,  7.82066548e-03,\n",
       "        -1.02359551e-02,  1.12654028e-02]])"
      ]
     },
     "execution_count": 63,
     "metadata": {},
     "output_type": "execute_result"
    }
   ],
   "source": [
    "logCV.coef_"
   ]
  },
  {
   "cell_type": "code",
   "execution_count": 64,
   "metadata": {
    "hidden": true
   },
   "outputs": [],
   "source": [
    "interp_df = pd.DataFrame(data = logCV.coef_, columns = X.columns)"
   ]
  },
  {
   "cell_type": "code",
   "execution_count": 65,
   "metadata": {
    "hidden": true
   },
   "outputs": [],
   "source": [
    "df_coef = interp_df.T.sort_values(by=0, ascending=False)"
   ]
  },
  {
   "cell_type": "code",
   "execution_count": 66,
   "metadata": {
    "hidden": true
   },
   "outputs": [
    {
     "data": {
      "text/html": [
       "<div>\n",
       "<style scoped>\n",
       "    .dataframe tbody tr th:only-of-type {\n",
       "        vertical-align: middle;\n",
       "    }\n",
       "\n",
       "    .dataframe tbody tr th {\n",
       "        vertical-align: top;\n",
       "    }\n",
       "\n",
       "    .dataframe thead th {\n",
       "        text-align: right;\n",
       "    }\n",
       "</style>\n",
       "<table border=\"1\" class=\"dataframe\">\n",
       "  <thead>\n",
       "    <tr style=\"text-align: right;\">\n",
       "      <th></th>\n",
       "      <th>0</th>\n",
       "    </tr>\n",
       "  </thead>\n",
       "  <tbody>\n",
       "    <tr>\n",
       "      <th>course_id_MITx_Poverty</th>\n",
       "      <td>0.605093</td>\n",
       "    </tr>\n",
       "    <tr>\n",
       "      <th>YoB</th>\n",
       "      <td>0.063394</td>\n",
       "    </tr>\n",
       "    <tr>\n",
       "      <th>final_cc_cname_DI_Spain</th>\n",
       "      <td>0.051863</td>\n",
       "    </tr>\n",
       "    <tr>\n",
       "      <th>final_cc_cname_DI_Poland</th>\n",
       "      <td>0.049134</td>\n",
       "    </tr>\n",
       "    <tr>\n",
       "      <th>final_cc_cname_DI_Russian Federation</th>\n",
       "      <td>0.031217</td>\n",
       "    </tr>\n",
       "  </tbody>\n",
       "</table>\n",
       "</div>"
      ],
      "text/plain": [
       "                                             0\n",
       "course_id_MITx_Poverty                0.605093\n",
       "YoB                                   0.063394\n",
       "final_cc_cname_DI_Spain               0.051863\n",
       "final_cc_cname_DI_Poland              0.049134\n",
       "final_cc_cname_DI_Russian Federation  0.031217"
      ]
     },
     "execution_count": 66,
     "metadata": {},
     "output_type": "execute_result"
    }
   ],
   "source": [
    "df_coef.head()"
   ]
  },
  {
   "cell_type": "code",
   "execution_count": 67,
   "metadata": {
    "hidden": true,
    "scrolled": true
   },
   "outputs": [
    {
     "data": {
      "text/html": [
       "<div>\n",
       "<style scoped>\n",
       "    .dataframe tbody tr th:only-of-type {\n",
       "        vertical-align: middle;\n",
       "    }\n",
       "\n",
       "    .dataframe tbody tr th {\n",
       "        vertical-align: top;\n",
       "    }\n",
       "\n",
       "    .dataframe thead th {\n",
       "        text-align: right;\n",
       "    }\n",
       "</style>\n",
       "<table border=\"1\" class=\"dataframe\">\n",
       "  <thead>\n",
       "    <tr style=\"text-align: right;\">\n",
       "      <th></th>\n",
       "      <th>0</th>\n",
       "    </tr>\n",
       "  </thead>\n",
       "  <tbody>\n",
       "    <tr>\n",
       "      <th>relative_launch</th>\n",
       "      <td>-0.610828</td>\n",
       "    </tr>\n",
       "    <tr>\n",
       "      <th>course_id_Harv_HealthStat</th>\n",
       "      <td>-0.168430</td>\n",
       "    </tr>\n",
       "    <tr>\n",
       "      <th>explored</th>\n",
       "      <td>-0.161182</td>\n",
       "    </tr>\n",
       "    <tr>\n",
       "      <th>course_id_MITx_CS_Python</th>\n",
       "      <td>-0.114670</td>\n",
       "    </tr>\n",
       "    <tr>\n",
       "      <th>course_id_MITx_ElecMag</th>\n",
       "      <td>-0.097838</td>\n",
       "    </tr>\n",
       "    <tr>\n",
       "      <th>course_id_Harv_HealthEnv</th>\n",
       "      <td>-0.088287</td>\n",
       "    </tr>\n",
       "    <tr>\n",
       "      <th>course_id_MITx_Structures</th>\n",
       "      <td>-0.070196</td>\n",
       "    </tr>\n",
       "    <tr>\n",
       "      <th>course_id_MITx_Biology</th>\n",
       "      <td>-0.068900</td>\n",
       "    </tr>\n",
       "    <tr>\n",
       "      <th>final_cc_cname_DI_Other Africa</th>\n",
       "      <td>-0.042932</td>\n",
       "    </tr>\n",
       "    <tr>\n",
       "      <th>course_id_MITx_Circuits</th>\n",
       "      <td>-0.029209</td>\n",
       "    </tr>\n",
       "    <tr>\n",
       "      <th>final_cc_cname_DI_Unknown/Other</th>\n",
       "      <td>-0.028001</td>\n",
       "    </tr>\n",
       "    <tr>\n",
       "      <th>final_cc_cname_DI_India</th>\n",
       "      <td>-0.024503</td>\n",
       "    </tr>\n",
       "    <tr>\n",
       "      <th>final_cc_cname_DI_Bangladesh</th>\n",
       "      <td>-0.022984</td>\n",
       "    </tr>\n",
       "    <tr>\n",
       "      <th>final_cc_cname_DI_Brazil</th>\n",
       "      <td>-0.022840</td>\n",
       "    </tr>\n",
       "    <tr>\n",
       "      <th>final_cc_cname_DI_Egypt</th>\n",
       "      <td>-0.021908</td>\n",
       "    </tr>\n",
       "    <tr>\n",
       "      <th>final_cc_cname_DI_Other Middle East/Central Asia</th>\n",
       "      <td>-0.021318</td>\n",
       "    </tr>\n",
       "    <tr>\n",
       "      <th>final_cc_cname_DI_Philippines</th>\n",
       "      <td>-0.019631</td>\n",
       "    </tr>\n",
       "    <tr>\n",
       "      <th>final_cc_cname_DI_Other East Asia</th>\n",
       "      <td>-0.019463</td>\n",
       "    </tr>\n",
       "    <tr>\n",
       "      <th>final_cc_cname_DI_Other South America</th>\n",
       "      <td>-0.016849</td>\n",
       "    </tr>\n",
       "    <tr>\n",
       "      <th>final_cc_cname_DI_Other South Asia</th>\n",
       "      <td>-0.016316</td>\n",
       "    </tr>\n",
       "    <tr>\n",
       "      <th>final_cc_cname_DI_Japan</th>\n",
       "      <td>-0.016126</td>\n",
       "    </tr>\n",
       "    <tr>\n",
       "      <th>gender_None Provided</th>\n",
       "      <td>-0.016053</td>\n",
       "    </tr>\n",
       "    <tr>\n",
       "      <th>LoE_DI_Bachelor's</th>\n",
       "      <td>-0.015739</td>\n",
       "    </tr>\n",
       "    <tr>\n",
       "      <th>final_cc_cname_DI_Morocco</th>\n",
       "      <td>-0.013055</td>\n",
       "    </tr>\n",
       "    <tr>\n",
       "      <th>final_cc_cname_DI_Nigeria</th>\n",
       "      <td>-0.012171</td>\n",
       "    </tr>\n",
       "    <tr>\n",
       "      <th>final_cc_cname_DI_China</th>\n",
       "      <td>-0.010999</td>\n",
       "    </tr>\n",
       "    <tr>\n",
       "      <th>LoE_DI_Secondary</th>\n",
       "      <td>-0.010464</td>\n",
       "    </tr>\n",
       "    <tr>\n",
       "      <th>season_spring</th>\n",
       "      <td>-0.010236</td>\n",
       "    </tr>\n",
       "    <tr>\n",
       "      <th>final_cc_cname_DI_Ukraine</th>\n",
       "      <td>-0.007828</td>\n",
       "    </tr>\n",
       "    <tr>\n",
       "      <th>final_cc_cname_DI_Pakistan</th>\n",
       "      <td>-0.007356</td>\n",
       "    </tr>\n",
       "    <tr>\n",
       "      <th>gender_m</th>\n",
       "      <td>-0.006642</td>\n",
       "    </tr>\n",
       "    <tr>\n",
       "      <th>final_cc_cname_DI_Canada</th>\n",
       "      <td>-0.006571</td>\n",
       "    </tr>\n",
       "    <tr>\n",
       "      <th>final_cc_cname_DI_France</th>\n",
       "      <td>-0.006151</td>\n",
       "    </tr>\n",
       "    <tr>\n",
       "      <th>LoE_DI_Less than Secondary</th>\n",
       "      <td>-0.005376</td>\n",
       "    </tr>\n",
       "    <tr>\n",
       "      <th>final_cc_cname_DI_Colombia</th>\n",
       "      <td>-0.002494</td>\n",
       "    </tr>\n",
       "    <tr>\n",
       "      <th>final_cc_cname_DI_Indonesia</th>\n",
       "      <td>0.000177</td>\n",
       "    </tr>\n",
       "    <tr>\n",
       "      <th>LoE_DI_None Provided</th>\n",
       "      <td>0.001710</td>\n",
       "    </tr>\n",
       "    <tr>\n",
       "      <th>LoE_DI_Doctorate</th>\n",
       "      <td>0.002129</td>\n",
       "    </tr>\n",
       "    <tr>\n",
       "      <th>final_cc_cname_DI_Other Oceania</th>\n",
       "      <td>0.002995</td>\n",
       "    </tr>\n",
       "    <tr>\n",
       "      <th>final_cc_cname_DI_Australia</th>\n",
       "      <td>0.003908</td>\n",
       "    </tr>\n",
       "    <tr>\n",
       "      <th>final_cc_cname_DI_Mexico</th>\n",
       "      <td>0.004309</td>\n",
       "    </tr>\n",
       "    <tr>\n",
       "      <th>final_cc_cname_DI_Other North &amp; Central Amer., Caribbean</th>\n",
       "      <td>0.007264</td>\n",
       "    </tr>\n",
       "    <tr>\n",
       "      <th>season_fall</th>\n",
       "      <td>0.007821</td>\n",
       "    </tr>\n",
       "    <tr>\n",
       "      <th>final_cc_cname_DI_United States</th>\n",
       "      <td>0.008773</td>\n",
       "    </tr>\n",
       "    <tr>\n",
       "      <th>course_id_MITx_SSChem</th>\n",
       "      <td>0.010587</td>\n",
       "    </tr>\n",
       "    <tr>\n",
       "      <th>course_id_MITx_MechRev</th>\n",
       "      <td>0.011265</td>\n",
       "    </tr>\n",
       "    <tr>\n",
       "      <th>season_summer</th>\n",
       "      <td>0.011265</td>\n",
       "    </tr>\n",
       "    <tr>\n",
       "      <th>final_cc_cname_DI_Greece</th>\n",
       "      <td>0.011889</td>\n",
       "    </tr>\n",
       "    <tr>\n",
       "      <th>final_cc_cname_DI_Portugal</th>\n",
       "      <td>0.013544</td>\n",
       "    </tr>\n",
       "    <tr>\n",
       "      <th>final_cc_cname_DI_United Kingdom</th>\n",
       "      <td>0.017315</td>\n",
       "    </tr>\n",
       "    <tr>\n",
       "      <th>final_cc_cname_DI_Other Europe</th>\n",
       "      <td>0.020026</td>\n",
       "    </tr>\n",
       "    <tr>\n",
       "      <th>final_cc_cname_DI_Germany</th>\n",
       "      <td>0.021489</td>\n",
       "    </tr>\n",
       "    <tr>\n",
       "      <th>gender_f</th>\n",
       "      <td>0.024139</td>\n",
       "    </tr>\n",
       "    <tr>\n",
       "      <th>LoE_DI_Master's</th>\n",
       "      <td>0.025594</td>\n",
       "    </tr>\n",
       "    <tr>\n",
       "      <th>final_cc_cname_DI_Russian Federation</th>\n",
       "      <td>0.031217</td>\n",
       "    </tr>\n",
       "    <tr>\n",
       "      <th>final_cc_cname_DI_Poland</th>\n",
       "      <td>0.049134</td>\n",
       "    </tr>\n",
       "    <tr>\n",
       "      <th>final_cc_cname_DI_Spain</th>\n",
       "      <td>0.051863</td>\n",
       "    </tr>\n",
       "    <tr>\n",
       "      <th>YoB</th>\n",
       "      <td>0.063394</td>\n",
       "    </tr>\n",
       "    <tr>\n",
       "      <th>course_id_MITx_Poverty</th>\n",
       "      <td>0.605093</td>\n",
       "    </tr>\n",
       "  </tbody>\n",
       "</table>\n",
       "</div>"
      ],
      "text/plain": [
       "                                                           0\n",
       "relative_launch                                    -0.610828\n",
       "course_id_Harv_HealthStat                          -0.168430\n",
       "explored                                           -0.161182\n",
       "course_id_MITx_CS_Python                           -0.114670\n",
       "course_id_MITx_ElecMag                             -0.097838\n",
       "course_id_Harv_HealthEnv                           -0.088287\n",
       "course_id_MITx_Structures                          -0.070196\n",
       "course_id_MITx_Biology                             -0.068900\n",
       "final_cc_cname_DI_Other Africa                     -0.042932\n",
       "course_id_MITx_Circuits                            -0.029209\n",
       "final_cc_cname_DI_Unknown/Other                    -0.028001\n",
       "final_cc_cname_DI_India                            -0.024503\n",
       "final_cc_cname_DI_Bangladesh                       -0.022984\n",
       "final_cc_cname_DI_Brazil                           -0.022840\n",
       "final_cc_cname_DI_Egypt                            -0.021908\n",
       "final_cc_cname_DI_Other Middle East/Central Asia   -0.021318\n",
       "final_cc_cname_DI_Philippines                      -0.019631\n",
       "final_cc_cname_DI_Other East Asia                  -0.019463\n",
       "final_cc_cname_DI_Other South America              -0.016849\n",
       "final_cc_cname_DI_Other South Asia                 -0.016316\n",
       "final_cc_cname_DI_Japan                            -0.016126\n",
       "gender_None Provided                               -0.016053\n",
       "LoE_DI_Bachelor's                                  -0.015739\n",
       "final_cc_cname_DI_Morocco                          -0.013055\n",
       "final_cc_cname_DI_Nigeria                          -0.012171\n",
       "final_cc_cname_DI_China                            -0.010999\n",
       "LoE_DI_Secondary                                   -0.010464\n",
       "season_spring                                      -0.010236\n",
       "final_cc_cname_DI_Ukraine                          -0.007828\n",
       "final_cc_cname_DI_Pakistan                         -0.007356\n",
       "gender_m                                           -0.006642\n",
       "final_cc_cname_DI_Canada                           -0.006571\n",
       "final_cc_cname_DI_France                           -0.006151\n",
       "LoE_DI_Less than Secondary                         -0.005376\n",
       "final_cc_cname_DI_Colombia                         -0.002494\n",
       "final_cc_cname_DI_Indonesia                         0.000177\n",
       "LoE_DI_None Provided                                0.001710\n",
       "LoE_DI_Doctorate                                    0.002129\n",
       "final_cc_cname_DI_Other Oceania                     0.002995\n",
       "final_cc_cname_DI_Australia                         0.003908\n",
       "final_cc_cname_DI_Mexico                            0.004309\n",
       "final_cc_cname_DI_Other North & Central Amer., ...  0.007264\n",
       "season_fall                                         0.007821\n",
       "final_cc_cname_DI_United States                     0.008773\n",
       "course_id_MITx_SSChem                               0.010587\n",
       "course_id_MITx_MechRev                              0.011265\n",
       "season_summer                                       0.011265\n",
       "final_cc_cname_DI_Greece                            0.011889\n",
       "final_cc_cname_DI_Portugal                          0.013544\n",
       "final_cc_cname_DI_United Kingdom                    0.017315\n",
       "final_cc_cname_DI_Other Europe                      0.020026\n",
       "final_cc_cname_DI_Germany                           0.021489\n",
       "gender_f                                            0.024139\n",
       "LoE_DI_Master's                                     0.025594\n",
       "final_cc_cname_DI_Russian Federation                0.031217\n",
       "final_cc_cname_DI_Poland                            0.049134\n",
       "final_cc_cname_DI_Spain                             0.051863\n",
       "YoB                                                 0.063394\n",
       "course_id_MITx_Poverty                              0.605093"
      ]
     },
     "execution_count": 67,
     "metadata": {},
     "output_type": "execute_result"
    }
   ],
   "source": [
    "interp_df.T.sort_values(by=0)"
   ]
  }
 ],
 "metadata": {
  "kernelspec": {
   "display_name": "Python 3",
   "language": "python",
   "name": "python3"
  },
  "language_info": {
   "codemirror_mode": {
    "name": "ipython",
    "version": 3
   },
   "file_extension": ".py",
   "mimetype": "text/x-python",
   "name": "python",
   "nbconvert_exporter": "python",
   "pygments_lexer": "ipython3",
   "version": "3.7.3"
  }
 },
 "nbformat": 4,
 "nbformat_minor": 2
}
